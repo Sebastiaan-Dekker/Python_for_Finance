{
 "cells": [
  {
   "cell_type": "markdown",
   "metadata": {},
   "source": [
    "## Simpler Returns - Part I"
   ]
  },
  {
   "cell_type": "markdown",
   "metadata": {},
   "source": [
    "Download the data for Microsoft (‘MSFT’) from Yahoo Finance for the period ‘2000-1-1’ until today."
   ]
  },
  {
   "cell_type": "code",
   "execution_count": 4,
   "metadata": {},
   "outputs": [],
   "source": [
    "import numpy as np\n",
    "from pandas_datareader import data as wb\n",
    "import matplotlib.pyplot as plt\n",
    "\n",
    "MS = wb.DataReader('MSFT', data_source='yahoo', start='2000-1-1')"
   ]
  },
  {
   "cell_type": "markdown",
   "metadata": {},
   "source": [
    "Apply the .**head()** and **.tail()** methods to check if the data is ok. Always pay attention to the dates. Try to get an idea about how the stock price changed during the period."
   ]
  },
  {
   "cell_type": "code",
   "execution_count": 6,
   "metadata": {},
   "outputs": [
    {
     "data": {
      "text/html": [
       "<div>\n",
       "<style scoped>\n",
       "    .dataframe tbody tr th:only-of-type {\n",
       "        vertical-align: middle;\n",
       "    }\n",
       "\n",
       "    .dataframe tbody tr th {\n",
       "        vertical-align: top;\n",
       "    }\n",
       "\n",
       "    .dataframe thead th {\n",
       "        text-align: right;\n",
       "    }\n",
       "</style>\n",
       "<table border=\"1\" class=\"dataframe\">\n",
       "  <thead>\n",
       "    <tr style=\"text-align: right;\">\n",
       "      <th></th>\n",
       "      <th>High</th>\n",
       "      <th>Low</th>\n",
       "      <th>Open</th>\n",
       "      <th>Close</th>\n",
       "      <th>Volume</th>\n",
       "      <th>Adj Close</th>\n",
       "    </tr>\n",
       "    <tr>\n",
       "      <th>Date</th>\n",
       "      <th></th>\n",
       "      <th></th>\n",
       "      <th></th>\n",
       "      <th></th>\n",
       "      <th></th>\n",
       "      <th></th>\n",
       "    </tr>\n",
       "  </thead>\n",
       "  <tbody>\n",
       "    <tr>\n",
       "      <th>2000-01-03</th>\n",
       "      <td>59.3125</td>\n",
       "      <td>56.00000</td>\n",
       "      <td>58.68750</td>\n",
       "      <td>58.28125</td>\n",
       "      <td>53228400.0</td>\n",
       "      <td>37.102634</td>\n",
       "    </tr>\n",
       "    <tr>\n",
       "      <th>2000-01-04</th>\n",
       "      <td>58.5625</td>\n",
       "      <td>56.12500</td>\n",
       "      <td>56.78125</td>\n",
       "      <td>56.31250</td>\n",
       "      <td>54119000.0</td>\n",
       "      <td>35.849308</td>\n",
       "    </tr>\n",
       "    <tr>\n",
       "      <th>2000-01-05</th>\n",
       "      <td>58.1875</td>\n",
       "      <td>54.68750</td>\n",
       "      <td>55.56250</td>\n",
       "      <td>56.90625</td>\n",
       "      <td>64059600.0</td>\n",
       "      <td>36.227283</td>\n",
       "    </tr>\n",
       "    <tr>\n",
       "      <th>2000-01-06</th>\n",
       "      <td>56.9375</td>\n",
       "      <td>54.18750</td>\n",
       "      <td>56.09375</td>\n",
       "      <td>55.00000</td>\n",
       "      <td>54976600.0</td>\n",
       "      <td>35.013741</td>\n",
       "    </tr>\n",
       "    <tr>\n",
       "      <th>2000-01-07</th>\n",
       "      <td>56.1250</td>\n",
       "      <td>53.65625</td>\n",
       "      <td>54.31250</td>\n",
       "      <td>55.71875</td>\n",
       "      <td>62013600.0</td>\n",
       "      <td>35.471302</td>\n",
       "    </tr>\n",
       "  </tbody>\n",
       "</table>\n",
       "</div>"
      ],
      "text/plain": [
       "               High       Low      Open     Close      Volume  Adj Close\n",
       "Date                                                                    \n",
       "2000-01-03  59.3125  56.00000  58.68750  58.28125  53228400.0  37.102634\n",
       "2000-01-04  58.5625  56.12500  56.78125  56.31250  54119000.0  35.849308\n",
       "2000-01-05  58.1875  54.68750  55.56250  56.90625  64059600.0  36.227283\n",
       "2000-01-06  56.9375  54.18750  56.09375  55.00000  54976600.0  35.013741\n",
       "2000-01-07  56.1250  53.65625  54.31250  55.71875  62013600.0  35.471302"
      ]
     },
     "execution_count": 6,
     "metadata": {},
     "output_type": "execute_result"
    }
   ],
   "source": [
    "MS.head()"
   ]
  },
  {
   "cell_type": "code",
   "execution_count": 7,
   "metadata": {},
   "outputs": [
    {
     "data": {
      "text/html": [
       "<div>\n",
       "<style scoped>\n",
       "    .dataframe tbody tr th:only-of-type {\n",
       "        vertical-align: middle;\n",
       "    }\n",
       "\n",
       "    .dataframe tbody tr th {\n",
       "        vertical-align: top;\n",
       "    }\n",
       "\n",
       "    .dataframe thead th {\n",
       "        text-align: right;\n",
       "    }\n",
       "</style>\n",
       "<table border=\"1\" class=\"dataframe\">\n",
       "  <thead>\n",
       "    <tr style=\"text-align: right;\">\n",
       "      <th></th>\n",
       "      <th>High</th>\n",
       "      <th>Low</th>\n",
       "      <th>Open</th>\n",
       "      <th>Close</th>\n",
       "      <th>Volume</th>\n",
       "      <th>Adj Close</th>\n",
       "    </tr>\n",
       "    <tr>\n",
       "      <th>Date</th>\n",
       "      <th></th>\n",
       "      <th></th>\n",
       "      <th></th>\n",
       "      <th></th>\n",
       "      <th></th>\n",
       "      <th></th>\n",
       "    </tr>\n",
       "  </thead>\n",
       "  <tbody>\n",
       "    <tr>\n",
       "      <th>2020-12-21</th>\n",
       "      <td>224.000000</td>\n",
       "      <td>217.279999</td>\n",
       "      <td>217.550003</td>\n",
       "      <td>222.589996</td>\n",
       "      <td>37181900.0</td>\n",
       "      <td>222.589996</td>\n",
       "    </tr>\n",
       "    <tr>\n",
       "      <th>2020-12-22</th>\n",
       "      <td>225.630005</td>\n",
       "      <td>221.850006</td>\n",
       "      <td>222.690002</td>\n",
       "      <td>223.940002</td>\n",
       "      <td>22612200.0</td>\n",
       "      <td>223.940002</td>\n",
       "    </tr>\n",
       "    <tr>\n",
       "      <th>2020-12-23</th>\n",
       "      <td>223.559998</td>\n",
       "      <td>220.800003</td>\n",
       "      <td>223.110001</td>\n",
       "      <td>221.020004</td>\n",
       "      <td>18699600.0</td>\n",
       "      <td>221.020004</td>\n",
       "    </tr>\n",
       "    <tr>\n",
       "      <th>2020-12-24</th>\n",
       "      <td>223.610001</td>\n",
       "      <td>221.199997</td>\n",
       "      <td>221.419998</td>\n",
       "      <td>222.750000</td>\n",
       "      <td>10550600.0</td>\n",
       "      <td>222.750000</td>\n",
       "    </tr>\n",
       "    <tr>\n",
       "      <th>2020-12-28</th>\n",
       "      <td>226.029999</td>\n",
       "      <td>223.020004</td>\n",
       "      <td>224.449997</td>\n",
       "      <td>224.960007</td>\n",
       "      <td>17911100.0</td>\n",
       "      <td>224.960007</td>\n",
       "    </tr>\n",
       "  </tbody>\n",
       "</table>\n",
       "</div>"
      ],
      "text/plain": [
       "                  High         Low        Open       Close      Volume  \\\n",
       "Date                                                                     \n",
       "2020-12-21  224.000000  217.279999  217.550003  222.589996  37181900.0   \n",
       "2020-12-22  225.630005  221.850006  222.690002  223.940002  22612200.0   \n",
       "2020-12-23  223.559998  220.800003  223.110001  221.020004  18699600.0   \n",
       "2020-12-24  223.610001  221.199997  221.419998  222.750000  10550600.0   \n",
       "2020-12-28  226.029999  223.020004  224.449997  224.960007  17911100.0   \n",
       "\n",
       "             Adj Close  \n",
       "Date                    \n",
       "2020-12-21  222.589996  \n",
       "2020-12-22  223.940002  \n",
       "2020-12-23  221.020004  \n",
       "2020-12-24  222.750000  \n",
       "2020-12-28  224.960007  "
      ]
     },
     "execution_count": 7,
     "metadata": {},
     "output_type": "execute_result"
    }
   ],
   "source": [
    "MS.tail()"
   ]
  },
  {
   "cell_type": "markdown",
   "metadata": {
    "collapsed": true
   },
   "source": [
    "### Simple Rate of Return"
   ]
  },
  {
   "cell_type": "markdown",
   "metadata": {},
   "source": [
    "Calculate the simple returns of ‘MSFT’ for the given timeframe."
   ]
  },
  {
   "cell_type": "markdown",
   "metadata": {},
   "source": [
    "$$\n",
    "\\frac{P_1 - P_0}{P_0} = \\frac{P_1}{P_0} - 1\n",
    "$$"
   ]
  },
  {
   "cell_type": "code",
   "execution_count": 11,
   "metadata": {},
   "outputs": [
    {
     "name": "stdout",
     "output_type": "stream",
     "text": [
      "Date\n",
      "2000-01-03         NaN\n",
      "2000-01-04   -0.033780\n",
      "2000-01-05    0.010543\n",
      "2000-01-06   -0.033498\n",
      "2000-01-07    0.013068\n",
      "                ...   \n",
      "2020-12-21    0.018299\n",
      "2020-12-22    0.006065\n",
      "2020-12-23   -0.013039\n",
      "2020-12-24    0.007827\n",
      "2020-12-28    0.009921\n",
      "Name: simple_return, Length: 5281, dtype: float64\n"
     ]
    }
   ],
   "source": [
    "MS['simple_return'] = (MS['Adj Close'] / MS['Adj Close'].shift(1)) - 1\n",
    "print(MS['simple_return'])"
   ]
  },
  {
   "cell_type": "code",
   "execution_count": null,
   "metadata": {},
   "outputs": [],
   "source": []
  }
 ],
 "metadata": {
  "kernelspec": {
   "display_name": "Python 3",
   "language": "python",
   "name": "python3"
  },
  "language_info": {
   "codemirror_mode": {
    "name": "ipython",
    "version": 3
   },
   "file_extension": ".py",
   "mimetype": "text/x-python",
   "name": "python",
   "nbconvert_exporter": "python",
   "pygments_lexer": "ipython3",
   "version": "3.8.5"
  }
 },
 "nbformat": 4,
 "nbformat_minor": 2
}
