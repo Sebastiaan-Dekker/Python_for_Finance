{
 "cells": [
  {
   "cell_type": "markdown",
   "metadata": {},
   "source": [
    "## Logarithmic Returns"
   ]
  },
  {
   "cell_type": "code",
   "execution_count": 1,
   "metadata": {},
   "outputs": [
    {
     "data": {
      "text/html": [
       "<div>\n",
       "<style scoped>\n",
       "    .dataframe tbody tr th:only-of-type {\n",
       "        vertical-align: middle;\n",
       "    }\n",
       "\n",
       "    .dataframe tbody tr th {\n",
       "        vertical-align: top;\n",
       "    }\n",
       "\n",
       "    .dataframe thead th {\n",
       "        text-align: right;\n",
       "    }\n",
       "</style>\n",
       "<table border=\"1\" class=\"dataframe\">\n",
       "  <thead>\n",
       "    <tr style=\"text-align: right;\">\n",
       "      <th></th>\n",
       "      <th>High</th>\n",
       "      <th>Low</th>\n",
       "      <th>Open</th>\n",
       "      <th>Close</th>\n",
       "      <th>Volume</th>\n",
       "      <th>Adj Close</th>\n",
       "    </tr>\n",
       "    <tr>\n",
       "      <th>Date</th>\n",
       "      <th></th>\n",
       "      <th></th>\n",
       "      <th></th>\n",
       "      <th></th>\n",
       "      <th></th>\n",
       "      <th></th>\n",
       "    </tr>\n",
       "  </thead>\n",
       "  <tbody>\n",
       "    <tr>\n",
       "      <th>2000-01-03</th>\n",
       "      <td>59.312500</td>\n",
       "      <td>56.000000</td>\n",
       "      <td>58.687500</td>\n",
       "      <td>58.281250</td>\n",
       "      <td>53228400.0</td>\n",
       "      <td>37.102634</td>\n",
       "    </tr>\n",
       "    <tr>\n",
       "      <th>2000-01-04</th>\n",
       "      <td>58.562500</td>\n",
       "      <td>56.125000</td>\n",
       "      <td>56.781250</td>\n",
       "      <td>56.312500</td>\n",
       "      <td>54119000.0</td>\n",
       "      <td>35.849308</td>\n",
       "    </tr>\n",
       "    <tr>\n",
       "      <th>2000-01-05</th>\n",
       "      <td>58.187500</td>\n",
       "      <td>54.687500</td>\n",
       "      <td>55.562500</td>\n",
       "      <td>56.906250</td>\n",
       "      <td>64059600.0</td>\n",
       "      <td>36.227283</td>\n",
       "    </tr>\n",
       "    <tr>\n",
       "      <th>2000-01-06</th>\n",
       "      <td>56.937500</td>\n",
       "      <td>54.187500</td>\n",
       "      <td>56.093750</td>\n",
       "      <td>55.000000</td>\n",
       "      <td>54976600.0</td>\n",
       "      <td>35.013741</td>\n",
       "    </tr>\n",
       "    <tr>\n",
       "      <th>2000-01-07</th>\n",
       "      <td>56.125000</td>\n",
       "      <td>53.656250</td>\n",
       "      <td>54.312500</td>\n",
       "      <td>55.718750</td>\n",
       "      <td>62013600.0</td>\n",
       "      <td>35.471302</td>\n",
       "    </tr>\n",
       "    <tr>\n",
       "      <th>...</th>\n",
       "      <td>...</td>\n",
       "      <td>...</td>\n",
       "      <td>...</td>\n",
       "      <td>...</td>\n",
       "      <td>...</td>\n",
       "      <td>...</td>\n",
       "    </tr>\n",
       "    <tr>\n",
       "      <th>2020-12-21</th>\n",
       "      <td>224.000000</td>\n",
       "      <td>217.279999</td>\n",
       "      <td>217.550003</td>\n",
       "      <td>222.589996</td>\n",
       "      <td>37181900.0</td>\n",
       "      <td>222.589996</td>\n",
       "    </tr>\n",
       "    <tr>\n",
       "      <th>2020-12-22</th>\n",
       "      <td>225.630005</td>\n",
       "      <td>221.850006</td>\n",
       "      <td>222.690002</td>\n",
       "      <td>223.940002</td>\n",
       "      <td>22612200.0</td>\n",
       "      <td>223.940002</td>\n",
       "    </tr>\n",
       "    <tr>\n",
       "      <th>2020-12-23</th>\n",
       "      <td>223.559998</td>\n",
       "      <td>220.800003</td>\n",
       "      <td>223.110001</td>\n",
       "      <td>221.020004</td>\n",
       "      <td>18699600.0</td>\n",
       "      <td>221.020004</td>\n",
       "    </tr>\n",
       "    <tr>\n",
       "      <th>2020-12-24</th>\n",
       "      <td>223.610001</td>\n",
       "      <td>221.199997</td>\n",
       "      <td>221.419998</td>\n",
       "      <td>222.750000</td>\n",
       "      <td>10550600.0</td>\n",
       "      <td>222.750000</td>\n",
       "    </tr>\n",
       "    <tr>\n",
       "      <th>2020-12-28</th>\n",
       "      <td>226.029999</td>\n",
       "      <td>223.020004</td>\n",
       "      <td>224.449997</td>\n",
       "      <td>224.960007</td>\n",
       "      <td>17911100.0</td>\n",
       "      <td>224.960007</td>\n",
       "    </tr>\n",
       "  </tbody>\n",
       "</table>\n",
       "<p>5281 rows × 6 columns</p>\n",
       "</div>"
      ],
      "text/plain": [
       "                  High         Low        Open       Close      Volume  \\\n",
       "Date                                                                     \n",
       "2000-01-03   59.312500   56.000000   58.687500   58.281250  53228400.0   \n",
       "2000-01-04   58.562500   56.125000   56.781250   56.312500  54119000.0   \n",
       "2000-01-05   58.187500   54.687500   55.562500   56.906250  64059600.0   \n",
       "2000-01-06   56.937500   54.187500   56.093750   55.000000  54976600.0   \n",
       "2000-01-07   56.125000   53.656250   54.312500   55.718750  62013600.0   \n",
       "...                ...         ...         ...         ...         ...   \n",
       "2020-12-21  224.000000  217.279999  217.550003  222.589996  37181900.0   \n",
       "2020-12-22  225.630005  221.850006  222.690002  223.940002  22612200.0   \n",
       "2020-12-23  223.559998  220.800003  223.110001  221.020004  18699600.0   \n",
       "2020-12-24  223.610001  221.199997  221.419998  222.750000  10550600.0   \n",
       "2020-12-28  226.029999  223.020004  224.449997  224.960007  17911100.0   \n",
       "\n",
       "             Adj Close  \n",
       "Date                    \n",
       "2000-01-03   37.102634  \n",
       "2000-01-04   35.849308  \n",
       "2000-01-05   36.227283  \n",
       "2000-01-06   35.013741  \n",
       "2000-01-07   35.471302  \n",
       "...                ...  \n",
       "2020-12-21  222.589996  \n",
       "2020-12-22  223.940002  \n",
       "2020-12-23  221.020004  \n",
       "2020-12-24  222.750000  \n",
       "2020-12-28  224.960007  \n",
       "\n",
       "[5281 rows x 6 columns]"
      ]
     },
     "execution_count": 1,
     "metadata": {},
     "output_type": "execute_result"
    }
   ],
   "source": [
    "import numpy as np\n",
    "from pandas_datareader import data as wb\n",
    "import matplotlib.pyplot as plt\n",
    "MSFT = wb.DataReader('MSFT', data_source='yahoo', start='2000-1-1')\n",
    "MSFT"
   ]
  },
  {
   "cell_type": "markdown",
   "metadata": {},
   "source": [
    "### Log Returns"
   ]
  },
  {
   "cell_type": "markdown",
   "metadata": {},
   "source": [
    "$$\n",
    "ln(\\frac{P_t}{P_{t-1}})\n",
    "$$"
   ]
  },
  {
   "cell_type": "markdown",
   "metadata": {},
   "source": [
    "Calculate the Log returns for Microsoft."
   ]
  },
  {
   "cell_type": "code",
   "execution_count": 4,
   "metadata": {},
   "outputs": [
    {
     "name": "stdout",
     "output_type": "stream",
     "text": [
      "Date\n",
      "2000-01-03         NaN\n",
      "2000-01-04   -0.034364\n",
      "2000-01-05    0.010488\n",
      "2000-01-06   -0.034072\n",
      "2000-01-07    0.012983\n",
      "                ...   \n",
      "2020-12-21    0.018134\n",
      "2020-12-22    0.006047\n",
      "2020-12-23   -0.013125\n",
      "2020-12-24    0.007797\n",
      "2020-12-28    0.009873\n",
      "Name: log_return, Length: 5281, dtype: float64\n"
     ]
    }
   ],
   "source": [
    "MSFT['log_return'] = np.log(MSFT['Adj Close'] / MSFT['Adj Close'].shift(1))\n",
    "print(MSFT['log_return'])"
   ]
  },
  {
   "cell_type": "markdown",
   "metadata": {},
   "source": [
    "Plot the results on a graph."
   ]
  },
  {
   "cell_type": "code",
   "execution_count": 11,
   "metadata": {},
   "outputs": [
    {
     "data": {
      "text/plain": [
       "<AxesSubplot:xlabel='Date'>"
      ]
     },
     "execution_count": 11,
     "metadata": {},
     "output_type": "execute_result"
    },
    {
     "data": {
      "image/png": "[encoded data removed]",
      "text/plain": [
       "<Figure size 360x360 with 1 Axes>"
      ]
     },
     "metadata": {
      "needs_background": "light"
     },
     "output_type": "display_data"
    }
   ],
   "source": [
    "MSFT['log_return'].plot(figsize=(5,5))"
   ]
  },
  {
   "cell_type": "markdown",
   "metadata": {},
   "source": [
    "Estimate the daily and the annual mean of the obtained log returns."
   ]
  },
  {
   "cell_type": "code",
   "execution_count": 13,
   "metadata": {},
   "outputs": [
    {
     "data": {
      "text/plain": [
       "0.0003413323224396974"
      ]
     },
     "execution_count": 13,
     "metadata": {},
     "output_type": "execute_result"
    }
   ],
   "source": [
    "log_return_d = MSFT['log_return'].mean()\n",
    "log_return_d"
   ]
  },
  {
   "cell_type": "code",
   "execution_count": 14,
   "metadata": {},
   "outputs": [
    {
     "data": {
      "text/plain": [
       "0.08533308060992435"
      ]
     },
     "execution_count": 14,
     "metadata": {},
     "output_type": "execute_result"
    }
   ],
   "source": [
    "log_return_a = MSFT['log_return'].mean()* 250\n",
    "log_return_a"
   ]
  },
  {
   "cell_type": "markdown",
   "metadata": {},
   "source": [
    "Print the result in a presentable form."
   ]
  },
  {
   "cell_type": "code",
   "execution_count": 15,
   "metadata": {},
   "outputs": [
    {
     "name": "stdout",
     "output_type": "stream",
     "text": [
      "8.533%\n"
     ]
    }
   ],
   "source": [
    "print(str(round(log_return_a,5) * 100) + '%')"
   ]
  },
  {
   "cell_type": "markdown",
   "metadata": {},
   "source": [
    "****"
   ]
  },
  {
   "cell_type": "markdown",
   "metadata": {},
   "source": [
    "Repeat this exercise for any stock of interest to you. :)"
   ]
  }
 ],
 "metadata": {
  "kernelspec": {
   "display_name": "Python 3",
   "language": "python",
   "name": "python3"
  },
  "language_info": {
   "codemirror_mode": {
    "name": "ipython",
    "version": 3
   },
   "file_extension": ".py",
   "mimetype": "text/x-python",
   "name": "python",
   "nbconvert_exporter": "python",
   "pygments_lexer": "ipython3",
   "version": "3.8.5"
  }
 },
 "nbformat": 4,
 "nbformat_minor": 2
}
