{
 "cells": [
  {
   "cell_type": "markdown",
   "metadata": {},
   "source": [
    "## Importing and Organizing Your Data in Python - Part I"
   ]
  },
  {
   "cell_type": "markdown",
   "metadata": {},
   "source": [
    "*Suggested Answers follow (usually there are multiple ways to solve a problem in Python).*"
   ]
  },
  {
   "cell_type": "markdown",
   "metadata": {},
   "source": [
    "a. Create a series object of 10 randomly generated integer values."
   ]
  },
  {
   "cell_type": "code",
   "execution_count": 13,
   "metadata": {},
   "outputs": [],
   "source": [
    "import numpy as np\n",
    "import pandas as pd"
   ]
  },
  {
   "cell_type": "code",
   "execution_count": 16,
   "metadata": {},
   "outputs": [],
   "source": [
    "ser = pd.Series(np.random.randint(10, size = 10, dtype = 'int'), name = 'Column 1')"
   ]
  },
  {
   "cell_type": "code",
   "execution_count": 17,
   "metadata": {},
   "outputs": [
    {
     "data": {
      "text/plain": [
       "0    3\n",
       "1    0\n",
       "2    2\n",
       "3    3\n",
       "4    8\n",
       "5    8\n",
       "6    6\n",
       "7    9\n",
       "8    5\n",
       "9    7\n",
       "Name: Column 1, dtype: int32"
      ]
     },
     "execution_count": 17,
     "metadata": {},
     "output_type": "execute_result"
    }
   ],
   "source": [
    "ser"
   ]
  },
  {
   "cell_type": "markdown",
   "metadata": {},
   "source": [
    "b. Extract data from IEX for Ford from the 1st of January 2015. The ticker you need is ‘F’. "
   ]
  },
  {
   "cell_type": "code",
   "execution_count": 19,
   "metadata": {},
   "outputs": [],
   "source": [
    "from pandas_datareader import data as wb"
   ]
  },
  {
   "cell_type": "code",
   "execution_count": 24,
   "metadata": {},
   "outputs": [],
   "source": [
    "PG = wb.DataReader('F', data_source='yahoo', start='2015-1-1')"
   ]
  },
  {
   "cell_type": "code",
   "execution_count": 26,
   "metadata": {},
   "outputs": [
    {
     "data": {
      "text/html": [
       "<div>\n",
       "<style scoped>\n",
       "    .dataframe tbody tr th:only-of-type {\n",
       "        vertical-align: middle;\n",
       "    }\n",
       "\n",
       "    .dataframe tbody tr th {\n",
       "        vertical-align: top;\n",
       "    }\n",
       "\n",
       "    .dataframe thead th {\n",
       "        text-align: right;\n",
       "    }\n",
       "</style>\n",
       "<table border=\"1\" class=\"dataframe\">\n",
       "  <thead>\n",
       "    <tr style=\"text-align: right;\">\n",
       "      <th></th>\n",
       "      <th>High</th>\n",
       "      <th>Low</th>\n",
       "      <th>Open</th>\n",
       "      <th>Close</th>\n",
       "      <th>Volume</th>\n",
       "      <th>Adj Close</th>\n",
       "    </tr>\n",
       "    <tr>\n",
       "      <th>Date</th>\n",
       "      <th></th>\n",
       "      <th></th>\n",
       "      <th></th>\n",
       "      <th></th>\n",
       "      <th></th>\n",
       "      <th></th>\n",
       "    </tr>\n",
       "  </thead>\n",
       "  <tbody>\n",
       "    <tr>\n",
       "      <th>2015-01-02</th>\n",
       "      <td>15.65</td>\n",
       "      <td>15.18</td>\n",
       "      <td>15.59</td>\n",
       "      <td>15.36</td>\n",
       "      <td>24777900.0</td>\n",
       "      <td>11.190040</td>\n",
       "    </tr>\n",
       "    <tr>\n",
       "      <th>2015-01-05</th>\n",
       "      <td>15.13</td>\n",
       "      <td>14.69</td>\n",
       "      <td>15.12</td>\n",
       "      <td>14.76</td>\n",
       "      <td>44079700.0</td>\n",
       "      <td>10.752932</td>\n",
       "    </tr>\n",
       "    <tr>\n",
       "      <th>2015-01-06</th>\n",
       "      <td>14.90</td>\n",
       "      <td>14.38</td>\n",
       "      <td>14.88</td>\n",
       "      <td>14.62</td>\n",
       "      <td>32981600.0</td>\n",
       "      <td>10.650939</td>\n",
       "    </tr>\n",
       "    <tr>\n",
       "      <th>2015-01-07</th>\n",
       "      <td>15.09</td>\n",
       "      <td>14.77</td>\n",
       "      <td>14.78</td>\n",
       "      <td>15.04</td>\n",
       "      <td>26065300.0</td>\n",
       "      <td>10.956917</td>\n",
       "    </tr>\n",
       "    <tr>\n",
       "      <th>2015-01-08</th>\n",
       "      <td>15.48</td>\n",
       "      <td>15.23</td>\n",
       "      <td>15.40</td>\n",
       "      <td>15.42</td>\n",
       "      <td>33943400.0</td>\n",
       "      <td>11.233754</td>\n",
       "    </tr>\n",
       "    <tr>\n",
       "      <th>...</th>\n",
       "      <td>...</td>\n",
       "      <td>...</td>\n",
       "      <td>...</td>\n",
       "      <td>...</td>\n",
       "      <td>...</td>\n",
       "      <td>...</td>\n",
       "    </tr>\n",
       "    <tr>\n",
       "      <th>2020-12-17</th>\n",
       "      <td>9.13</td>\n",
       "      <td>9.00</td>\n",
       "      <td>9.09</td>\n",
       "      <td>9.08</td>\n",
       "      <td>49301600.0</td>\n",
       "      <td>9.080000</td>\n",
       "    </tr>\n",
       "    <tr>\n",
       "      <th>2020-12-18</th>\n",
       "      <td>9.09</td>\n",
       "      <td>8.91</td>\n",
       "      <td>9.09</td>\n",
       "      <td>8.95</td>\n",
       "      <td>78764600.0</td>\n",
       "      <td>8.950000</td>\n",
       "    </tr>\n",
       "    <tr>\n",
       "      <th>2020-12-21</th>\n",
       "      <td>9.01</td>\n",
       "      <td>8.79</td>\n",
       "      <td>8.87</td>\n",
       "      <td>8.93</td>\n",
       "      <td>63908100.0</td>\n",
       "      <td>8.930000</td>\n",
       "    </tr>\n",
       "    <tr>\n",
       "      <th>2020-12-22</th>\n",
       "      <td>8.99</td>\n",
       "      <td>8.75</td>\n",
       "      <td>8.98</td>\n",
       "      <td>8.79</td>\n",
       "      <td>59031200.0</td>\n",
       "      <td>8.790000</td>\n",
       "    </tr>\n",
       "    <tr>\n",
       "      <th>2020-12-23</th>\n",
       "      <td>9.03</td>\n",
       "      <td>8.80</td>\n",
       "      <td>8.82</td>\n",
       "      <td>8.99</td>\n",
       "      <td>50823539.0</td>\n",
       "      <td>8.990000</td>\n",
       "    </tr>\n",
       "  </tbody>\n",
       "</table>\n",
       "<p>1506 rows × 6 columns</p>\n",
       "</div>"
      ],
      "text/plain": [
       "             High    Low   Open  Close      Volume  Adj Close\n",
       "Date                                                         \n",
       "2015-01-02  15.65  15.18  15.59  15.36  24777900.0  11.190040\n",
       "2015-01-05  15.13  14.69  15.12  14.76  44079700.0  10.752932\n",
       "2015-01-06  14.90  14.38  14.88  14.62  32981600.0  10.650939\n",
       "2015-01-07  15.09  14.77  14.78  15.04  26065300.0  10.956917\n",
       "2015-01-08  15.48  15.23  15.40  15.42  33943400.0  11.233754\n",
       "...           ...    ...    ...    ...         ...        ...\n",
       "2020-12-17   9.13   9.00   9.09   9.08  49301600.0   9.080000\n",
       "2020-12-18   9.09   8.91   9.09   8.95  78764600.0   8.950000\n",
       "2020-12-21   9.01   8.79   8.87   8.93  63908100.0   8.930000\n",
       "2020-12-22   8.99   8.75   8.98   8.79  59031200.0   8.790000\n",
       "2020-12-23   9.03   8.80   8.82   8.99  50823539.0   8.990000\n",
       "\n",
       "[1506 rows x 6 columns]"
      ]
     },
     "execution_count": 26,
     "metadata": {},
     "output_type": "execute_result"
    }
   ],
   "source": [
    "PG"
   ]
  },
  {
   "cell_type": "code",
   "execution_count": null,
   "metadata": {},
   "outputs": [],
   "source": []
  }
 ],
 "metadata": {
  "kernelspec": {
   "display_name": "Python 3",
   "language": "python",
   "name": "python3"
  },
  "language_info": {
   "codemirror_mode": {
    "name": "ipython",
    "version": 3
   },
   "file_extension": ".py",
   "mimetype": "text/x-python",
   "name": "python",
   "nbconvert_exporter": "python",
   "pygments_lexer": "ipython3",
   "version": "3.8.5"
  }
 },
 "nbformat": 4,
 "nbformat_minor": 2
}
